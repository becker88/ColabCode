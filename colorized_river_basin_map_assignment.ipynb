{
  "cells": [
    {
      "cell_type": "markdown",
      "metadata": {
        "id": "view-in-github",
        "colab_type": "text"
      },
      "source": [
        "<a href=\"https://colab.research.google.com/github/becker88/ColabCode/blob/main/colorized_river_basin_map_assignment.ipynb\" target=\"_parent\"><img src=\"https://colab.research.google.com/assets/colab-badge.svg\" alt=\"Open In Colab\"/></a>"
      ]
    },
    {
      "cell_type": "markdown",
      "metadata": {
        "id": "hgu8ZQVZ-0nt"
      },
      "source": [
        "## Overview\n",
        "\n",
        "Your assignment is to create a colorized river basin map for your country using the [HydroRIVERS](https://www.hydrosheds.org/products/hydrorivers) data.\n",
        "\n",
        "This notebook contains code to download and pre-process the data. Your task is to plot the rivers using Matplotlib and achieve a unique style shown below."
      ]
    },
    {
      "cell_type": "markdown",
      "metadata": {
        "id": "EyaOnF4x_nQq"
      },
      "source": [
        "<img src='https://courses.spatialthoughts.com/images/python_dataviz/assignment.png' width=800/>"
      ]
    },
    {
      "cell_type": "markdown",
      "metadata": {
        "id": "I5SfxPFf_nZC"
      },
      "source": [
        "## Setup and Data Download"
      ]
    },
    {
      "cell_type": "code",
      "execution_count": null,
      "metadata": {
        "id": "df487246-fb38-451f-a76d-ffbb7ad95a0f"
      },
      "outputs": [],
      "source": [
        "import geopandas as gpd\n",
        "import matplotlib.pyplot as plt\n",
        "import os\n",
        "import requests\n",
        "import zipfile"
      ]
    },
    {
      "cell_type": "code",
      "execution_count": null,
      "metadata": {
        "id": "lOLD5d1yHZIC"
      },
      "outputs": [],
      "source": [
        "data_folder = 'data'\n",
        "output_folder = 'output'\n",
        "\n",
        "if not os.path.exists(data_folder):\n",
        "    os.mkdir(data_folder)\n",
        "if not os.path.exists(output_folder):\n",
        "    os.mkdir(output_folder)"
      ]
    },
    {
      "cell_type": "code",
      "execution_count": null,
      "metadata": {
        "id": "1PVxJlqkHb0q"
      },
      "outputs": [],
      "source": [
        "def download(url):\n",
        "    filename = os.path.join(data_folder, os.path.basename(url))\n",
        "    if not os.path.exists(filename):\n",
        "      with requests.get(url, stream=True, allow_redirects=True) as r:\n",
        "          with open(filename, 'wb') as f:\n",
        "              for chunk in r.iter_content(chunk_size=8192):\n",
        "                  f.write(chunk)\n",
        "      print('Downloaded', filename)\n",
        "\n",
        "\n",
        "data_url = 'https://github.com/spatialthoughts/python-dataviz-web/releases/download/'\n",
        "\n",
        "# This is a subset of the main HydroRivers dataset of all\n",
        "# rivers having `UPLAND_SKM` value  greater than 100 sq. km.\n",
        "hydrorivers_file = 'hydrorivers_100.gpkg'\n",
        "hydrorivers_url = data_url + 'hydrosheds/'\n",
        "\n",
        "countries_file = 'ne_10m_admin_0_countries_ind.zip'\n",
        "countries_url = data_url + 'naturalearth/'\n",
        "\n",
        "\n",
        "download(hydrorivers_url + hydrorivers_file)\n",
        "download(countries_url + countries_file)\n"
      ]
    },
    {
      "cell_type": "markdown",
      "metadata": {
        "id": "qdQxZDgtTCtr"
      },
      "source": [
        "## Data Pre-Processing\n",
        "\n",
        "Read the countries shapefile."
      ]
    },
    {
      "cell_type": "code",
      "source": [
        "countries_filepath = os.path.join(data_folder, countries_file)"
      ],
      "metadata": {
        "id": "0bNFbKlpJumx"
      },
      "execution_count": null,
      "outputs": []
    },
    {
      "cell_type": "markdown",
      "source": [
        "For the assignment, you need to pick the country for which you want to create the map. We can print a list of values from the `SOVEREIGNT` column of `country_gdf` GeoDataFrame using `country_gdf.SOVEREIGNT.values` to know the names of all countries."
      ],
      "metadata": {
        "id": "-RzAI8_8LG_C"
      }
    },
    {
      "cell_type": "code",
      "source": [
        "country_gdf = gpd.read_file(countries_filepath)\n",
        "print(sorted(country_gdf.SOVEREIGNT.unique()))"
      ],
      "metadata": {
        "id": "cEOW_zcELAAU"
      },
      "execution_count": null,
      "outputs": []
    },
    {
      "cell_type": "markdown",
      "source": [
        "Select a country name. Replace the value below with your chosen country."
      ],
      "metadata": {
        "id": "aFdoKW6RdkGn"
      }
    },
    {
      "cell_type": "code",
      "source": [
        "country = 'India'"
      ],
      "metadata": {
        "id": "Iq8X0KHldp63"
      },
      "execution_count": null,
      "outputs": []
    },
    {
      "cell_type": "markdown",
      "source": [
        "Apply filters to select the country feature. We use an additional filter `TYPE != 'Dependency'` to exclude overseas territories. You may have to adjust the filter to get the correct country polygon."
      ],
      "metadata": {
        "id": "JR2IcuvqMiy_"
      }
    },
    {
      "cell_type": "code",
      "execution_count": null,
      "metadata": {
        "id": "44_-SAHzTBuJ"
      },
      "outputs": [],
      "source": [
        "selected_country = country_gdf[\n",
        "    (country_gdf['SOVEREIGNT'] == country) &\n",
        "    (country_gdf['TYPE'] != 'Dependency')\n",
        "]\n",
        "selected_country"
      ]
    },
    {
      "cell_type": "markdown",
      "source": [
        "We read the river network data from HydroRivers. We specify the `mask` parameter which clips the layer to the country boundary while reading the data.\n",
        "\n",
        "*This step can take a few minutes depending on the size of the country.*"
      ],
      "metadata": {
        "id": "IJ7RMWZU2odS"
      }
    },
    {
      "cell_type": "code",
      "execution_count": null,
      "metadata": {
        "id": "gWC-jLkLVMxs"
      },
      "outputs": [],
      "source": [
        "hydrorivers_filepath = os.path.join(data_folder, hydrorivers_file)\n",
        "river_gdf = gpd.read_file(hydrorivers_filepath, mask=selected_country)\n",
        "river_gdf"
      ]
    },
    {
      "cell_type": "markdown",
      "source": [
        "Visualize the river network."
      ],
      "metadata": {
        "id": "Ty0P5rL3_D9I"
      }
    },
    {
      "cell_type": "code",
      "source": [
        "fig, ax = plt.subplots(figsize=(10, 10))\n",
        "title = f'Rivers of {country}'\n",
        "river_gdf.plot(ax=ax)\n",
        "ax.set_title(title)\n",
        "ax.set_axis_off()\n",
        "plt.show()"
      ],
      "metadata": {
        "id": "i499mUn368v5"
      },
      "execution_count": null,
      "outputs": []
    },
    {
      "cell_type": "markdown",
      "source": [
        "We want to style the rivers so that the width of the line is proportional to the value in the `UPLAND_SKM` attribute. We add a new column `width` to the GeoDataFrame by scaling the input values to a range of target widths.\n",
        "\n",
        "*Tip: These values will play an important role in your final visualization. Adjust these to suit the range of values for your country.*"
      ],
      "metadata": {
        "id": "9vpfs4JK399p"
      }
    },
    {
      "cell_type": "code",
      "source": [
        "original_min = 300\n",
        "original_max = 10000\n",
        "target_min = 0.2\n",
        "target_max = 0.9\n",
        "scaled = (river_gdf['UPLAND_SKM'] - original_min) / (original_max - original_min)\n",
        "river_gdf['width'] = scaled.clip(0, 1) * (target_max - target_min) + target_min\n",
        "river_gdf_final = river_gdf.sort_values(['UPLAND_SKM', 'width'])[\n",
        "    ['MAIN_RIV', 'UPLAND_SKM', 'width', 'geometry']]\n",
        "river_gdf_final"
      ],
      "metadata": {
        "id": "ZKomemSQmGWg"
      },
      "execution_count": null,
      "outputs": []
    },
    {
      "cell_type": "markdown",
      "source": [
        "Your task is to take the `river_gdf_final` GeoDataFrame and render the river network by applying the following styling guidelines. Refer to the [`geopandas.GeoDataFrame.plot()`](https://geopandas.org/en/stable/docs/reference/api/geopandas.GeoDataFrame.plot.html) documentation for parameter values and options.\n",
        "\n",
        "* Assign a color to each river segment based on the value of `MAIN_RIV` column. *Hint: set `categorical=True`*.\n",
        "* Assign width to each item based on the value in the `width` column.\n",
        "* Set the map background to black.\n",
        "* Set the title to white and change the font to be larger."
      ],
      "metadata": {
        "id": "HlkI4Gz1_G_s"
      }
    }
  ],
  "metadata": {
    "colab": {
      "provenance": [],
      "include_colab_link": true
    },
    "kernelspec": {
      "display_name": "Python 3",
      "name": "python3"
    },
    "language_info": {
      "name": "python"
    }
  },
  "nbformat": 4,
  "nbformat_minor": 0
}